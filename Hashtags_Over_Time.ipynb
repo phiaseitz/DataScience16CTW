{
 "cells": [
  {
   "cell_type": "markdown",
   "metadata": {},
   "source": [
    "# Mapping Twitter Data\n",
    "This notebook provides the basis for developing spatial representations of a variety of interesting data that is presented in the Ferguson Twitter dataset."
   ]
  },
  {
   "cell_type": "code",
   "execution_count": null,
   "metadata": {
    "collapsed": false
   },
   "outputs": [],
   "source": [
    "import numpy as np\n",
    "import matplotlib.pyplot as plt\n",
    "% matplotlib inline\n",
    "import json\n",
    "import time\n",
    "import pandas as pd\n",
    "import cartopy.crs as ccrs\n",
    "from ipywidgets import widgets\n",
    "import matplotlib.cm as cm"
   ]
  },
  {
   "cell_type": "markdown",
   "metadata": {},
   "source": [
    "Let's begin with the data. We have two datasets. The first is data from the two weeks following the initial shooting. The second is data from the two weeks following the indictment. Twitter has provided an extensive amount of data for us, and we have developed a cleaning mechanism which can be observed in a seperate script. The data is placed in a data frame:"
   ]
  },
  {
   "cell_type": "code",
   "execution_count": null,
   "metadata": {
    "collapsed": false
   },
   "outputs": [],
   "source": [
    "def ReadAndAggregate(linesAtATime,filepath, aggregationFunction):\n",
    "    i = 0\n",
    "    data = [] \n",
    "    \n",
    "    #Open and read in the file\n",
    "    with open(filename) as cleanedTweets:\n",
    "        for tweet in cleanedTweets:\n",
    "            i += 1\n",
    "            jsonline = json.loads(tweet)\n",
    "            data.append(jsonline)\n",
    "            #aggregate once we've read in the appropriate number of liens\n",
    "            if (i % linesAtATime == 0):\n",
    "                print i\n",
    "                df = pd.DataFrame(data=data)\n",
    "                #First time running through\n",
    "                if (i == linesAtATime):\n",
    "                    agg = aggregationFunction(df)\n",
    "                else:\n",
    "                    agg = aggregationFunction(df, agg)\n",
    "                #reset the data\n",
    "                data = []\n",
    "        #Handle the last few tweets\n",
    "        df = pd.DataFrame(data=data)\n",
    "        agg = aggregationFunction(df, agg)\n",
    "    #return the aggregation\n",
    "    return agg"
   ]
  },
  {
   "cell_type": "code",
   "execution_count": null,
   "metadata": {
    "collapsed": false
   },
   "outputs": [],
   "source": [
    "def createHashtagsDf (df, hashtagsDataFrame=pd.DataFrame()):\n",
    "    \n",
    "    #time based recodes\n",
    "    df['DoW'] = df['created_at'].apply(lambda x: str(x)[0:3:])\n",
    "    df['Month'] = df['created_at'].apply(lambda x: str(x)[4:7:])\n",
    "    df['DoM'] = df['created_at'].apply(lambda x: str(x)[8:10:])\n",
    "    df['Hour'] = df['created_at'].apply(lambda x: int(str(x)[11:13:]))\n",
    "    df['Minute'] = df['created_at'].apply(lambda x: int(str(x)[14:16:]))\n",
    "\n",
    "    #let's grab the coordinates from the coordinates field, which is actually a dictionary\n",
    "    coords = []\n",
    "    for i in range(len(df)):\n",
    "        location = df['coordinates'][i]\n",
    "        try: #want to make sure that null values don't throw an exception\n",
    "            coords.append(location.get('coordinates'))\n",
    "        except:\n",
    "            coords.append([None,None])\n",
    "\n",
    "    df['Coords'] = coords\n",
    "    df['x'] = df['Coords'].apply(lambda x: x[0])\n",
    "    df['y'] = df['Coords'].apply(lambda x: x[1])\n",
    "\n",
    "    #now, let's grab the information from place, which is similarly a very detailed dictionary of elements\n",
    "    name = []\n",
    "    country = []\n",
    "    coordinates = []\n",
    "    full_name = []\n",
    "    for i in range(len(df)):\n",
    "        location = df['place'][i]\n",
    "        try:\n",
    "            coordinates.append(location.get('bounding_box').get('coordinates'))\n",
    "            name.append(location.get('name'))\n",
    "            full_name.append(location.get('full_name'))\n",
    "            country.append(location.get('country'))\n",
    "        except:\n",
    "            coordinates.append([[[0,0],[0,0],[0,0],[0,0]]])\n",
    "            name.append('')\n",
    "            full_name.append('')\n",
    "            country.append('')\n",
    "\n",
    "    mean_coords = []\n",
    "    for box in coordinates:\n",
    "        mean_coord_x = (box[0][0][0]+box[0][1][0]+box[0][2][0]+box[0][3][0])/4\n",
    "        mean_coord_y = (box[0][0][1]+box[0][1][1]+box[0][2][1]+box[0][3][1])/4\n",
    "        mean_coords.append([mean_coord_x,mean_coord_y])\n",
    "\n",
    "#     df['city'] = name\n",
    "#     df['country'] = country\n",
    "#     df['full_name'] = full_name\n",
    "    df['P_Coords'] = mean_coords\n",
    "    df['x_p'] = df['P_Coords'].apply(lambda x: x[0])\n",
    "    df['y_p'] = df['P_Coords'].apply(lambda x: x[1])\n",
    "    \n",
    "    rowsToAdd = []\n",
    "    for index,tweet in df.iterrows():\n",
    "        for hashtag in tweet['entities_hashtags_text']:\n",
    "            rowsToAdd.append({\n",
    "                    'DoW': tweet['DoW'],\n",
    "                    'Month': tweet['Month'],\n",
    "                    'DoM': tweet['DoM'],\n",
    "                    'Hour': tweet['Hour'],\n",
    "                    'Minute': tweet['Minute'],\n",
    "                    'Hashtag': hashtag.upper(),\n",
    "                    'x': tweet['x'],\n",
    "                    'y': tweet['y'],\n",
    "                    'x_p': tweet['x_p'],\n",
    "                    'y_p': tweet['y_p'],\n",
    "                    'tweetId': tweet['id_str']\n",
    "                })\n",
    "    tempDf = pd.DataFrame(rowsToAdd)\n",
    "    hashtagsDataFrame = hashtagsDataFrame.append(tempDf)\n",
    "\n",
    "    return hashtagsDataFrame"
   ]
  },
  {
   "cell_type": "code",
   "execution_count": null,
   "metadata": {
    "collapsed": false
   },
   "outputs": [],
   "source": [
    "filename='./data/cleanedShootingTweets.json'\n",
    "data = ReadAndAggregate(100000,filename, createHashtagsDf)\n"
   ]
  },
  {
   "cell_type": "code",
   "execution_count": null,
   "metadata": {
    "collapsed": true
   },
   "outputs": [],
   "source": [
    "data['x'].fillna(value = data['x_p'], inplace = True)\n",
    "data['y'].fillna(value = data['y_p'], inplace = True)"
   ]
  },
  {
   "cell_type": "code",
   "execution_count": null,
   "metadata": {
    "collapsed": false
   },
   "outputs": [],
   "source": [
    "data"
   ]
  },
  {
   "cell_type": "code",
   "execution_count": null,
   "metadata": {
    "collapsed": true
   },
   "outputs": [],
   "source": [
    "data['x']"
   ]
  },
  {
   "cell_type": "code",
   "execution_count": null,
   "metadata": {
    "collapsed": false
   },
   "outputs": [],
   "source": [
    "data.info()"
   ]
  },
  {
   "cell_type": "code",
   "execution_count": null,
   "metadata": {
    "collapsed": false
   },
   "outputs": [],
   "source": [
    "#the cartopy map, going simple outline for now\n",
    "plt.figure(figsize=(15,15))\n",
    "ax = plt.axes(projection=ccrs.PlateCarree())\n",
    "ax.coastlines()\n",
    "\n",
    "#straight-up coordinate data which we just finished recoding\n",
    "plt.scatter(data.x,data.y,color='r')\n",
    "plt.scatter(data.x_p,data.y_p,color='g')\n",
    "\n",
    "plt.show()"
   ]
  },
  {
   "cell_type": "markdown",
   "metadata": {},
   "source": [
    "Now, to add a temporal element to this, we add a slider which pulls in some of the time columns we also just pulled out of interest."
   ]
  },
  {
   "cell_type": "code",
   "execution_count": null,
   "metadata": {
    "collapsed": true
   },
   "outputs": [],
   "source": [
    "latLonPopulated = data[(data['x'] != 0) & (data['y'] != 0)]"
   ]
  },
  {
   "cell_type": "code",
   "execution_count": null,
   "metadata": {
    "collapsed": false
   },
   "outputs": [],
   "source": [
    "latLonPopulated"
   ]
  },
  {
   "cell_type": "code",
   "execution_count": null,
   "metadata": {
    "collapsed": false
   },
   "outputs": [],
   "source": [
    "hashtagGrouped = latLonPopulated.groupby('Hashtag').count().reset_index().sort_values(by = 'DoM', ascending = False)\n",
    "sortedHashtags = hashtagGrouped['Hashtag'].tolist()\n",
    "topHashtags = sortedHashtags[0:10]"
   ]
  },
  {
   "cell_type": "code",
   "execution_count": null,
   "metadata": {
    "collapsed": false
   },
   "outputs": [],
   "source": [
    "topHashtags"
   ]
  },
  {
   "cell_type": "code",
   "execution_count": null,
   "metadata": {
    "collapsed": false
   },
   "outputs": [],
   "source": [
    "def plotHashtagLocation(DoM, Hour):\n",
    "    plt.figure(figsize=(15,15))\n",
    "    ax = plt.axes(projection=ccrs.PlateCarree())\n",
    "    ax.coastlines()\n",
    "    \n",
    "    for i,hashtag in enumerate(topHashtags):\n",
    "        subset = latLonPopulated[\n",
    "            (latLonPopulated['DoM'] == str(DoM)) & \n",
    "            (latLonPopulated['Hour']==Hour) & \n",
    "            (latLonPopulated['Hashtag'] == hashtag)]\n",
    "        if (len(subset) == 0):\n",
    "            continue\n",
    "        \n",
    "        plt.scatter(subset.x,subset.y, color= cm.jet(i/float(len(topHashtags))), label = hashtag)\n",
    "#         plt.scatter(subset.x_p,subset.y_p, color= cm.jet(i/float(len(topHashtags))), label = hashtag)\n",
    "    plt.axis([-180, 180, -75, 75])\n",
    "#     plt.axis([-180, 0, -75, 75])\n",
    "    plt.legend()"
   ]
  },
  {
   "cell_type": "code",
   "execution_count": null,
   "metadata": {
    "collapsed": false
   },
   "outputs": [],
   "source": [
    "DoM = widgets.IntSlider(min=10, max=27, value=17)\n",
    "Hour = widgets.IntSlider(min=0, max=23, value=17)\n",
    "widgets.interact(plotHashtagLocation,DoM = DoM, Hour=Hour)"
   ]
  },
  {
   "cell_type": "code",
   "execution_count": null,
   "metadata": {
    "collapsed": true
   },
   "outputs": [],
   "source": []
  }
 ],
 "metadata": {
  "kernelspec": {
   "display_name": "Python 2",
   "language": "python",
   "name": "python2"
  },
  "language_info": {
   "codemirror_mode": {
    "name": "ipython",
    "version": 2
   },
   "file_extension": ".py",
   "mimetype": "text/x-python",
   "name": "python",
   "nbconvert_exporter": "python",
   "pygments_lexer": "ipython2",
   "version": "2.7.11"
  }
 },
 "nbformat": 4,
 "nbformat_minor": 0
}
